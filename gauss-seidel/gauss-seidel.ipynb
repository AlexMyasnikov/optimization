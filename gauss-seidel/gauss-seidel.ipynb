{
 "cells": [
  {
   "cell_type": "code",
   "execution_count": 32,
   "metadata": {},
   "outputs": [
    {
     "name": "stdout",
     "output_type": "stream",
     "text": [
      "4*h + 3.0\n",
      "0\n",
      "4\n",
      "7.0\n"
     ]
    },
    {
     "data": {
      "text/plain": [
       "<function numpy.linalg.solve(a, b)>"
      ]
     },
     "execution_count": 32,
     "metadata": {},
     "output_type": "execute_result"
    }
   ],
   "source": [
    "from sympy import lambdify, symbols, diff\n",
    "import numpy as np\n",
    "x1, x2, h = symbols(\"x1 x2 h\", real=True)\n",
    "f1 = 10*(x1+h)**2 + 10*(x2+h)**2 - 10*(x1+h)*(x2+h) + x2\n",
    "f = 2*(0.5+h)**2+(0.5+h)*1+1**2\n",
    "#f = 2*(0.5+h)**2+(0.5+h)*1+1**2\n",
    "\n",
    "df = diff(f, h)\n",
    "print(df)\n",
    "\n",
    "ddf = lambdify(h, df)\n",
    "print(ddf(1))\n",
    "np.linalg.solve"
   ]
  }
 ],
 "metadata": {
  "kernelspec": {
   "display_name": "Python 3.8.10 64-bit",
   "language": "python",
   "name": "python3"
  },
  "language_info": {
   "codemirror_mode": {
    "name": "ipython",
    "version": 3
   },
   "file_extension": ".py",
   "mimetype": "text/x-python",
   "name": "python",
   "nbconvert_exporter": "python",
   "pygments_lexer": "ipython3",
   "version": "3.8.10"
  },
  "orig_nbformat": 4,
  "vscode": {
   "interpreter": {
    "hash": "916dbcbb3f70747c44a77c7bcd40155683ae19c65e1c03b4aa3499c5328201f1"
   }
  }
 },
 "nbformat": 4,
 "nbformat_minor": 2
}
